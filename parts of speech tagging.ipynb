{
 "cells": [
  {
   "cell_type": "markdown",
   "metadata": {},
   "source": [
    "### Parts of Speech Tagging"
   ]
  },
  {
   "cell_type": "markdown",
   "metadata": {},
   "source": [
    "Tag\tAbbreviation \tWords\n",
    "Coordinating Conjunction \tCC\tBut, yet, although\n",
    "Determiner \tDT\tA, An, The, This, My, Most\n",
    "Cardinal Digit\tCD\tOne, Two, Three, Forty\n",
    "Existential There\tEX\tThere\n",
    "Foreign Word\tFW\tEn masse, bona fide, et cetera, et al\n",
    "Subordinating Conjunction or Preposition\tIN\tOver, Behind, Into\n",
    "Adjective\tJJ\tBeautiful, Slow, New\n",
    "Adjective, Comparative \tJJR\tGreater, Better, Older\n",
    "Adjective, Superlative\tJJS\tGreatest, Best, Oldest\n",
    "List Marker\tLS\ti, ii, iii, iv, … \n",
    "Modal\tMD\tHave, Can, Shall\n",
    "Noun, Singular\tNN\tSchool, Table, Pen\n",
    "Noun, Plural\tNNS\tSchools, Tables, Pens\n",
    "Proper Noun, Singular \tNNP\tMonday, Chicago, Mark\n",
    "Proper Noun, Plural \tNNPS\tKoreans, Universities, Americans \n",
    "Predeterminer \tPDT\tBoth, All, The\n",
    "Possessive Endings \tPOS\tDavid’s, Dan’s, Francis’\n",
    "Personal Pronoun\tPRP\tI, They, She\n",
    "Possessive Pronoun\tPRP$\tHis, Her, Their\n",
    "Adverb\tRB\tLater, Very, Already\n",
    "Adverb, Comparative\tRBR\tBetter, More, Worse\n",
    "Adverb, Superlative\tRBS\tBest, Most, Worst\n",
    "Particle \tRP\tAt, Across, About\n",
    "To\tTO\tTo\n",
    "Verb, Base Form\tVB\tJump, Eat, Play\n",
    "Verb, Past Tense\tVBD \tJumped, Ate, Played \n",
    "Verb, Present Participle \tVBG\tJumping, Eating, Playing\n",
    "Verb, Past Participle \tVBN\tTaken, Given, Gone\n",
    "Verb, Present Tense but not Third Person Singular\tVBP\tEnd, Go, Endure\n",
    "Verb, Present Tense, Third Person Singular \tVBZ\tJumps, Eats, Plays\n",
    "Wh – Determiner \tWDT\tWhich, What, Whichever\n",
    "Wh – Pronouns\tWP \tWhich, Whom, What\n",
    "Possessive Wh – Pronoun \tWP$\tWhose\n",
    "Wh – Adverb "
   ]
  },
  {
   "cell_type": "code",
   "execution_count": 1,
   "metadata": {},
   "outputs": [],
   "source": [
    "paragraph=\"\"\"I am honored to be with you today at your commencement from one of the finest universities in the world. I never graduated from college. Truth be told, this is the closest I’ve ever gotten to a college graduation. Today I want to tell you three stories from my life. That’s it. No big deal. Just three stories.\n",
    "\n",
    "The first story is about connecting the dots.\n",
    "\n",
    "I dropped out of Reed College after the first 6 months, but then stayed around as a drop-in for another 18 months or so before I really quit. So why did I drop out?\n",
    "\n",
    "It started before I was born. My biological mother was a young, unwed college graduate student, and she decided to put me up for adoption. She felt very strongly that I should be adopted by college graduates, so everything was all set for me to be adopted at birth by a lawyer and his wife. Except that when I popped out they decided at the last minute that they really wanted a girl. So my parents, who were on a waiting list, got a call in the middle of the night asking: “We have an unexpected baby boy; do you want him?” They said: “Of course.” My biological mother later found out that my mother had never graduated from college and that my father had never graduated from high school. She refused to sign the final adoption papers. She only relented a few months later when my parents promised that I would someday go to college.\n",
    "\n",
    "And 17 years later I did go to college. But I naively chose a college that was almost as expensive as Stanford, and all of my working-class parents’ savings were being spent on my college tuition. After six months, I couldn’t see the value in it. I had no idea what I wanted to do with my life and no idea how college was going to help me figure it out. And here I was spending all of the money my parents had saved their entire life. So I decided to drop out and trust that it would all work out OK. It was pretty scary at the time, but looking back it was one of the best decisions I ever made. The minute I dropped out I could stop taking the required classes that didn’t interest me, and begin dropping in on the ones that looked interesting.\n",
    "\n",
    "It wasn’t all romantic. I didn’t have a dorm room, so I slept on the floor in friends’ rooms, I returned Coke bottles for the 5¢ deposits to buy food with, and I would walk the 7 miles across town every Sunday night to get one good meal a week at the Hare Krishna temple. I loved it. And much of what I stumbled into by following my curiosity and intuition turned out to be priceless later on. Let me give you one example:\n",
    "\n",
    "Reed College at that time offered perhaps the best calligraphy instruction in the country. Throughout the campus every poster, every label on every drawer, was beautifully hand calligraphed. Because I had dropped out and didn’t have to take the normal classes, I decided to take a calligraphy class to learn how to do this. I learned about serif and sans serif typefaces, about varying the amount of space between different letter combinations, about what makes great typography great. It was beautiful, historical, artistically subtle in a way that science can’t capture, and I found it fascinating.\n",
    "\"\"\""
   ]
  },
  {
   "cell_type": "code",
   "execution_count": 5,
   "metadata": {},
   "outputs": [],
   "source": [
    "from nltk.corpus import stopwords\n",
    "import nltk\n",
    "sentences=nltk.sent_tokenize(paragraph)"
   ]
  },
  {
   "cell_type": "code",
   "execution_count": 6,
   "metadata": {},
   "outputs": [
    {
     "data": {
      "text/plain": [
       "['I am honored to be with you today at your commencement from one of the finest universities in the world.',\n",
       " 'I never graduated from college.',\n",
       " 'Truth be told, this is the closest I’ve ever gotten to a college graduation.',\n",
       " 'Today I want to tell you three stories from my life.',\n",
       " 'That’s it.',\n",
       " 'No big deal.',\n",
       " 'Just three stories.',\n",
       " 'The first story is about connecting the dots.',\n",
       " 'I dropped out of Reed College after the first 6 months, but then stayed around as a drop-in for another 18 months or so before I really quit.',\n",
       " 'So why did I drop out?',\n",
       " 'It started before I was born.',\n",
       " 'My biological mother was a young, unwed college graduate student, and she decided to put me up for adoption.',\n",
       " 'She felt very strongly that I should be adopted by college graduates, so everything was all set for me to be adopted at birth by a lawyer and his wife.',\n",
       " 'Except that when I popped out they decided at the last minute that they really wanted a girl.',\n",
       " 'So my parents, who were on a waiting list, got a call in the middle of the night asking: “We have an unexpected baby boy; do you want him?” They said: “Of course.” My biological mother later found out that my mother had never graduated from college and that my father had never graduated from high school.',\n",
       " 'She refused to sign the final adoption papers.',\n",
       " 'She only relented a few months later when my parents promised that I would someday go to college.',\n",
       " 'And 17 years later I did go to college.',\n",
       " 'But I naively chose a college that was almost as expensive as Stanford, and all of my working-class parents’ savings were being spent on my college tuition.',\n",
       " 'After six months, I couldn’t see the value in it.',\n",
       " 'I had no idea what I wanted to do with my life and no idea how college was going to help me figure it out.',\n",
       " 'And here I was spending all of the money my parents had saved their entire life.',\n",
       " 'So I decided to drop out and trust that it would all work out OK.',\n",
       " 'It was pretty scary at the time, but looking back it was one of the best decisions I ever made.',\n",
       " 'The minute I dropped out I could stop taking the required classes that didn’t interest me, and begin dropping in on the ones that looked interesting.',\n",
       " 'It wasn’t all romantic.',\n",
       " 'I didn’t have a dorm room, so I slept on the floor in friends’ rooms, I returned Coke bottles for the 5¢ deposits to buy food with, and I would walk the 7 miles across town every Sunday night to get one good meal a week at the Hare Krishna temple.',\n",
       " 'I loved it.',\n",
       " 'And much of what I stumbled into by following my curiosity and intuition turned out to be priceless later on.',\n",
       " 'Let me give you one example:\\n\\nReed College at that time offered perhaps the best calligraphy instruction in the country.',\n",
       " 'Throughout the campus every poster, every label on every drawer, was beautifully hand calligraphed.',\n",
       " 'Because I had dropped out and didn’t have to take the normal classes, I decided to take a calligraphy class to learn how to do this.',\n",
       " 'I learned about serif and sans serif typefaces, about varying the amount of space between different letter combinations, about what makes great typography great.',\n",
       " 'It was beautiful, historical, artistically subtle in a way that science can’t capture, and I found it fascinating.']"
      ]
     },
     "execution_count": 6,
     "metadata": {},
     "output_type": "execute_result"
    }
   ],
   "source": [
    "sentences"
   ]
  },
  {
   "cell_type": "code",
   "execution_count": 7,
   "metadata": {},
   "outputs": [
    {
     "name": "stdout",
     "output_type": "stream",
     "text": [
      "[('I', 'PRP'), ('honored', 'VBD'), ('today', 'NN'), ('commencement', 'NN'), ('one', 'CD'), ('finest', 'NN'), ('universities', 'VBZ'), ('world', 'NN'), ('.', '.')]\n",
      "[('I', 'PRP'), ('never', 'RB'), ('graduated', 'VBD'), ('college', 'NN'), ('.', '.')]\n",
      "[('Truth', 'NNP'), ('told', 'VBD'), (',', ','), ('closest', 'JJS'), ('I', 'PRP'), ('’', 'VBP'), ('ever', 'RB'), ('gotten', 'VBN'), ('college', 'NN'), ('graduation', 'NN'), ('.', '.')]\n",
      "[('Today', 'NN'), ('I', 'PRP'), ('want', 'VBP'), ('tell', 'JJ'), ('three', 'CD'), ('stories', 'NNS'), ('life', 'NN'), ('.', '.')]\n",
      "[('That', 'DT'), ('’', 'NN'), ('.', '.')]\n",
      "[('No', 'DT'), ('big', 'JJ'), ('deal', 'NN'), ('.', '.')]\n",
      "[('Just', 'RB'), ('three', 'CD'), ('stories', 'NNS'), ('.', '.')]\n",
      "[('The', 'DT'), ('first', 'JJ'), ('story', 'NN'), ('connecting', 'VBG'), ('dots', 'NNS'), ('.', '.')]\n",
      "[('I', 'PRP'), ('dropped', 'VBD'), ('Reed', 'NNP'), ('College', 'NNP'), ('first', 'RB'), ('6', 'CD'), ('months', 'NNS'), (',', ','), ('stayed', 'VBN'), ('around', 'IN'), ('drop-in', 'JJ'), ('another', 'DT'), ('18', 'CD'), ('months', 'NNS'), ('I', 'PRP'), ('really', 'RB'), ('quit', 'VB'), ('.', '.')]\n",
      "[('So', 'RB'), ('I', 'PRP'), ('drop', 'NN'), ('?', '.')]\n",
      "[('It', 'PRP'), ('started', 'VBD'), ('I', 'PRP'), ('born', 'VBP'), ('.', '.')]\n",
      "[('My', 'PRP$'), ('biological', 'JJ'), ('mother', 'NN'), ('young', 'JJ'), (',', ','), ('unwed', 'JJ'), ('college', 'NN'), ('graduate', 'NN'), ('student', 'NN'), (',', ','), ('decided', 'VBD'), ('put', 'VBN'), ('adoption', 'NN'), ('.', '.')]\n",
      "[('She', 'PRP'), ('felt', 'VBD'), ('strongly', 'RB'), ('I', 'PRP'), ('adopted', 'VBD'), ('college', 'NN'), ('graduates', 'NNS'), (',', ','), ('everything', 'NN'), ('set', 'NN'), ('adopted', 'VBD'), ('birth', 'JJ'), ('lawyer', 'NN'), ('wife', 'NN'), ('.', '.')]\n",
      "[('Except', 'IN'), ('I', 'PRP'), ('popped', 'VBD'), ('decided', 'VBD'), ('last', 'JJ'), ('minute', 'NN'), ('really', 'RB'), ('wanted', 'VBD'), ('girl', 'NN'), ('.', '.')]\n",
      "[('So', 'RB'), ('parents', 'NNS'), (',', ','), ('waiting', 'VBG'), ('list', 'NN'), (',', ','), ('got', 'VBD'), ('call', 'JJ'), ('middle', 'JJ'), ('night', 'NN'), ('asking', 'VBG'), (':', ':'), ('“', 'NN'), ('We', 'PRP'), ('unexpected', 'VBD'), ('baby', 'JJ'), ('boy', 'NN'), (';', ':'), ('want', 'VB'), ('?', '.'), ('”', 'NN'), ('They', 'PRP'), ('said', 'VBD'), (':', ':'), ('“', 'NN'), ('Of', 'IN'), ('course.', 'NN'), ('”', 'NNP'), ('My', 'NNP'), ('biological', 'NN'), ('mother', 'NN'), ('later', 'RB'), ('found', 'VBD'), ('mother', 'RB'), ('never', 'RB'), ('graduated', 'VBN'), ('college', 'NN'), ('father', 'NN'), ('never', 'RB'), ('graduated', 'VBN'), ('high', 'JJ'), ('school', 'NN'), ('.', '.')]\n",
      "[('She', 'PRP'), ('refused', 'VBD'), ('sign', 'JJ'), ('final', 'JJ'), ('adoption', 'NN'), ('papers', 'NNS'), ('.', '.')]\n",
      "[('She', 'PRP'), ('relented', 'VBD'), ('months', 'NNS'), ('later', 'RB'), ('parents', 'NNS'), ('promised', 'VBD'), ('I', 'PRP'), ('would', 'MD'), ('someday', 'RB'), ('go', 'VB'), ('college', 'NN'), ('.', '.')]\n",
      "[('And', 'CC'), ('17', 'CD'), ('years', 'NNS'), ('later', 'RB'), ('I', 'PRP'), ('go', 'VBP'), ('college', 'NN'), ('.', '.')]\n",
      "[('But', 'CC'), ('I', 'PRP'), ('naively', 'RB'), ('chose', 'VBD'), ('college', 'NN'), ('almost', 'RB'), ('expensive', 'JJ'), ('Stanford', 'NNP'), (',', ','), ('working-class', 'JJ'), ('parents', 'NNS'), ('’', 'JJ'), ('savings', 'NNS'), ('spent', 'VBD'), ('college', 'NN'), ('tuition', 'NN'), ('.', '.')]\n",
      "[('After', 'IN'), ('six', 'CD'), ('months', 'NNS'), (',', ','), ('I', 'PRP'), ('’', 'VBP'), ('see', 'VB'), ('value', 'NN'), ('.', '.')]\n",
      "[('I', 'PRP'), ('idea', 'NN'), ('I', 'PRP'), ('wanted', 'VBD'), ('life', 'NN'), ('idea', 'NN'), ('college', 'NN'), ('going', 'VBG'), ('help', 'JJ'), ('figure', 'NN'), ('.', '.')]\n",
      "[('And', 'CC'), ('I', 'PRP'), ('spending', 'VBG'), ('money', 'NN'), ('parents', 'NNS'), ('saved', 'VBD'), ('entire', 'JJ'), ('life', 'NN'), ('.', '.')]\n",
      "[('So', 'RB'), ('I', 'PRP'), ('decided', 'VBD'), ('drop', 'NN'), ('trust', 'NN'), ('would', 'MD'), ('work', 'VB'), ('OK', 'NNP'), ('.', '.')]\n",
      "[('It', 'PRP'), ('pretty', 'RB'), ('scary', 'JJ'), ('time', 'NN'), (',', ','), ('looking', 'VBG'), ('back', 'RP'), ('one', 'CD'), ('best', 'JJS'), ('decisions', 'NNS'), ('I', 'PRP'), ('ever', 'RB'), ('made', 'VBD'), ('.', '.')]\n",
      "[('The', 'DT'), ('minute', 'NN'), ('I', 'PRP'), ('dropped', 'VBD'), ('I', 'PRP'), ('could', 'MD'), ('stop', 'VB'), ('taking', 'VBG'), ('required', 'JJ'), ('classes', 'NNS'), ('’', 'JJ'), ('interest', 'NN'), (',', ','), ('begin', 'VB'), ('dropping', 'VBG'), ('ones', 'NNS'), ('looked', 'VBD'), ('interesting', 'JJ'), ('.', '.')]\n",
      "[('It', 'PRP'), ('’', 'VBZ'), ('romantic', 'JJ'), ('.', '.')]\n",
      "[('I', 'PRP'), ('’', 'VBP'), ('dorm', 'JJ'), ('room', 'NN'), (',', ','), ('I', 'PRP'), ('slept', 'VBP'), ('floor', 'NN'), ('friends', 'NNS'), ('’', 'VBP'), ('rooms', 'NNS'), (',', ','), ('I', 'PRP'), ('returned', 'VBD'), ('Coke', 'NNP'), ('bottles', 'NNS'), ('5¢', 'CD'), ('deposits', 'NNS'), ('buy', 'VBP'), ('food', 'NN'), (',', ','), ('I', 'PRP'), ('would', 'MD'), ('walk', 'VB'), ('7', 'CD'), ('miles', 'NNS'), ('across', 'IN'), ('town', 'NN'), ('every', 'DT'), ('Sunday', 'NNP'), ('night', 'NN'), ('get', 'VB'), ('one', 'CD'), ('good', 'JJ'), ('meal', 'NN'), ('week', 'NN'), ('Hare', 'NNP'), ('Krishna', 'NNP'), ('temple', 'NN'), ('.', '.')]\n",
      "[('I', 'PRP'), ('loved', 'VBD'), ('.', '.')]\n",
      "[('And', 'CC'), ('much', 'JJ'), ('I', 'PRP'), ('stumbled', 'VBD'), ('following', 'VBG'), ('curiosity', 'NN'), ('intuition', 'NN'), ('turned', 'VBD'), ('priceless', 'JJ'), ('later', 'RB'), ('.', '.')]\n",
      "[('Let', 'VB'), ('give', 'VB'), ('one', 'CD'), ('example', 'NN'), (':', ':'), ('Reed', 'VB'), ('College', 'NNP'), ('time', 'NN'), ('offered', 'VBD'), ('perhaps', 'RB'), ('best', 'RBS'), ('calligraphy', 'JJ'), ('instruction', 'NN'), ('country', 'NN'), ('.', '.')]\n",
      "[('Throughout', 'IN'), ('campus', 'NN'), ('every', 'DT'), ('poster', 'NN'), (',', ','), ('every', 'DT'), ('label', 'NN'), ('every', 'DT'), ('drawer', 'NN'), (',', ','), ('beautifully', 'RB'), ('hand', 'NN'), ('calligraphed', 'VBD'), ('.', '.')]\n",
      "[('Because', 'IN'), ('I', 'PRP'), ('dropped', 'VBD'), ('’', 'NNP'), ('take', 'VB'), ('normal', 'JJ'), ('classes', 'NNS'), (',', ','), ('I', 'PRP'), ('decided', 'VBD'), ('take', 'VB'), ('calligraphy', 'NN'), ('class', 'NN'), ('learn', 'NN'), ('.', '.')]\n",
      "[('I', 'PRP'), ('learned', 'VBD'), ('serif', 'JJ'), ('sans', 'NNS'), ('serif', 'JJ'), ('typefaces', 'NNS'), (',', ','), ('varying', 'VBG'), ('amount', 'NN'), ('space', 'NN'), ('different', 'JJ'), ('letter', 'NN'), ('combinations', 'NNS'), (',', ','), ('makes', 'VBZ'), ('great', 'JJ'), ('typography', 'JJ'), ('great', 'JJ'), ('.', '.')]\n",
      "[('It', 'PRP'), ('beautiful', 'JJ'), (',', ','), ('historical', 'JJ'), (',', ','), ('artistically', 'RB'), ('subtle', 'JJ'), ('way', 'NN'), ('science', 'NN'), ('’', 'NNP'), ('capture', 'NN'), (',', ','), ('I', 'PRP'), ('found', 'VBD'), ('fascinating', 'VBG'), ('.', '.')]\n"
     ]
    }
   ],
   "source": [
    "##Find out the pos tag\n",
    "for i in range(len(sentences)):\n",
    "    words=nltk.word_tokenize(sentences[i])\n",
    "    words=[word for word in words if word not in set(stopwords.words('english'))]\n",
    "    pos_tag=nltk.pos_tag(words)\n",
    "    print(pos_tag)"
   ]
  },
  {
   "cell_type": "code",
   "execution_count": 8,
   "metadata": {},
   "outputs": [
    {
     "data": {
      "text/plain": [
       "['Taj', 'Mahal', 'is', 'a', 'beautiful', 'Monument']"
      ]
     },
     "execution_count": 8,
     "metadata": {},
     "output_type": "execute_result"
    }
   ],
   "source": [
    "sentence=\"Taj Mahal is a beautiful Monument\"\n",
    "sentence.split()"
   ]
  },
  {
   "cell_type": "code",
   "execution_count": 10,
   "metadata": {},
   "outputs": [
    {
     "name": "stdout",
     "output_type": "stream",
     "text": [
      "[('Taj', 'NNP'), ('Mahal', 'NNP'), ('is', 'VBZ'), ('a', 'DT'), ('beautiful', 'JJ'), ('Monument', 'NN')]\n"
     ]
    }
   ],
   "source": [
    "print(nltk.pos_tag(sentence.split()))"
   ]
  },
  {
   "cell_type": "code",
   "execution_count": null,
   "metadata": {},
   "outputs": [],
   "source": []
  },
  {
   "cell_type": "code",
   "execution_count": null,
   "metadata": {},
   "outputs": [],
   "source": []
  },
  {
   "cell_type": "code",
   "execution_count": null,
   "metadata": {},
   "outputs": [],
   "source": []
  },
  {
   "cell_type": "code",
   "execution_count": null,
   "metadata": {},
   "outputs": [],
   "source": []
  },
  {
   "cell_type": "code",
   "execution_count": null,
   "metadata": {},
   "outputs": [],
   "source": []
  },
  {
   "cell_type": "code",
   "execution_count": null,
   "metadata": {},
   "outputs": [],
   "source": []
  }
 ],
 "metadata": {
  "kernelspec": {
   "display_name": "Python 3",
   "language": "python",
   "name": "python3"
  },
  "language_info": {
   "codemirror_mode": {
    "name": "ipython",
    "version": 3
   },
   "file_extension": ".py",
   "mimetype": "text/x-python",
   "name": "python",
   "nbconvert_exporter": "python",
   "pygments_lexer": "ipython3",
   "version": "3.10.0"
  }
 },
 "nbformat": 4,
 "nbformat_minor": 2
}
