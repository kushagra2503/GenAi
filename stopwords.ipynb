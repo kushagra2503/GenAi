{
 "cells": [
  {
   "cell_type": "markdown",
   "metadata": {},
   "source": [
    "### Stopwords\n"
   ]
  },
  {
   "cell_type": "code",
   "execution_count": 7,
   "metadata": {},
   "outputs": [],
   "source": [
    "paragraph=\"\"\"I am honored to be with you today at your commencement from one of the finest universities in the world. I never graduated from college. Truth be told, this is the closest I’ve ever gotten to a college graduation. Today I want to tell you three stories from my life. That’s it. No big deal. Just three stories.\n",
    "\n",
    "The first story is about connecting the dots.\n",
    "\n",
    "I dropped out of Reed College after the first 6 months, but then stayed around as a drop-in for another 18 months or so before I really quit. So why did I drop out?\n",
    "\n",
    "It started before I was born. My biological mother was a young, unwed college graduate student, and she decided to put me up for adoption. She felt very strongly that I should be adopted by college graduates, so everything was all set for me to be adopted at birth by a lawyer and his wife. Except that when I popped out they decided at the last minute that they really wanted a girl. So my parents, who were on a waiting list, got a call in the middle of the night asking: “We have an unexpected baby boy; do you want him?” They said: “Of course.” My biological mother later found out that my mother had never graduated from college and that my father had never graduated from high school. She refused to sign the final adoption papers. She only relented a few months later when my parents promised that I would someday go to college.\n",
    "\n",
    "And 17 years later I did go to college. But I naively chose a college that was almost as expensive as Stanford, and all of my working-class parents’ savings were being spent on my college tuition. After six months, I couldn’t see the value in it. I had no idea what I wanted to do with my life and no idea how college was going to help me figure it out. And here I was spending all of the money my parents had saved their entire life. So I decided to drop out and trust that it would all work out OK. It was pretty scary at the time, but looking back it was one of the best decisions I ever made. The minute I dropped out I could stop taking the required classes that didn’t interest me, and begin dropping in on the ones that looked interesting.\n",
    "\n",
    "It wasn’t all romantic. I didn’t have a dorm room, so I slept on the floor in friends’ rooms, I returned Coke bottles for the 5¢ deposits to buy food with, and I would walk the 7 miles across town every Sunday night to get one good meal a week at the Hare Krishna temple. I loved it. And much of what I stumbled into by following my curiosity and intuition turned out to be priceless later on. Let me give you one example:\n",
    "\n",
    "Reed College at that time offered perhaps the best calligraphy instruction in the country. Throughout the campus every poster, every label on every drawer, was beautifully hand calligraphed. Because I had dropped out and didn’t have to take the normal classes, I decided to take a calligraphy class to learn how to do this. I learned about serif and sans serif typefaces, about varying the amount of space between different letter combinations, about what makes great typography great. It was beautiful, historical, artistically subtle in a way that science can’t capture, and I found it fascinating.\n",
    "\"\"\""
   ]
  },
  {
   "cell_type": "code",
   "execution_count": 1,
   "metadata": {},
   "outputs": [],
   "source": [
    "from nltk.stem import PorterStemmer"
   ]
  },
  {
   "cell_type": "code",
   "execution_count": 3,
   "metadata": {},
   "outputs": [
    {
     "name": "stderr",
     "output_type": "stream",
     "text": [
      "[nltk_data] Downloading package stopwords to\n",
      "[nltk_data]     C:\\Users\\radhi\\AppData\\Roaming\\nltk_data...\n",
      "[nltk_data]   Unzipping corpora\\stopwords.zip.\n"
     ]
    },
    {
     "data": {
      "text/plain": [
       "True"
      ]
     },
     "execution_count": 3,
     "metadata": {},
     "output_type": "execute_result"
    }
   ],
   "source": [
    "from nltk.corpus import stopwords\n",
    "import nltk\n",
    "nltk.download('stopwords')"
   ]
  },
  {
   "cell_type": "code",
   "execution_count": 4,
   "metadata": {},
   "outputs": [
    {
     "data": {
      "text/plain": [
       "['a',\n",
       " 'about',\n",
       " 'above',\n",
       " 'after',\n",
       " 'again',\n",
       " 'against',\n",
       " 'ain',\n",
       " 'all',\n",
       " 'am',\n",
       " 'an',\n",
       " 'and',\n",
       " 'any',\n",
       " 'are',\n",
       " 'aren',\n",
       " \"aren't\",\n",
       " 'as',\n",
       " 'at',\n",
       " 'be',\n",
       " 'because',\n",
       " 'been',\n",
       " 'before',\n",
       " 'being',\n",
       " 'below',\n",
       " 'between',\n",
       " 'both',\n",
       " 'but',\n",
       " 'by',\n",
       " 'can',\n",
       " 'couldn',\n",
       " \"couldn't\",\n",
       " 'd',\n",
       " 'did',\n",
       " 'didn',\n",
       " \"didn't\",\n",
       " 'do',\n",
       " 'does',\n",
       " 'doesn',\n",
       " \"doesn't\",\n",
       " 'doing',\n",
       " 'don',\n",
       " \"don't\",\n",
       " 'down',\n",
       " 'during',\n",
       " 'each',\n",
       " 'few',\n",
       " 'for',\n",
       " 'from',\n",
       " 'further',\n",
       " 'had',\n",
       " 'hadn',\n",
       " \"hadn't\",\n",
       " 'has',\n",
       " 'hasn',\n",
       " \"hasn't\",\n",
       " 'have',\n",
       " 'haven',\n",
       " \"haven't\",\n",
       " 'having',\n",
       " 'he',\n",
       " \"he'd\",\n",
       " \"he'll\",\n",
       " 'her',\n",
       " 'here',\n",
       " 'hers',\n",
       " 'herself',\n",
       " \"he's\",\n",
       " 'him',\n",
       " 'himself',\n",
       " 'his',\n",
       " 'how',\n",
       " 'i',\n",
       " \"i'd\",\n",
       " 'if',\n",
       " \"i'll\",\n",
       " \"i'm\",\n",
       " 'in',\n",
       " 'into',\n",
       " 'is',\n",
       " 'isn',\n",
       " \"isn't\",\n",
       " 'it',\n",
       " \"it'd\",\n",
       " \"it'll\",\n",
       " \"it's\",\n",
       " 'its',\n",
       " 'itself',\n",
       " \"i've\",\n",
       " 'just',\n",
       " 'll',\n",
       " 'm',\n",
       " 'ma',\n",
       " 'me',\n",
       " 'mightn',\n",
       " \"mightn't\",\n",
       " 'more',\n",
       " 'most',\n",
       " 'mustn',\n",
       " \"mustn't\",\n",
       " 'my',\n",
       " 'myself',\n",
       " 'needn',\n",
       " \"needn't\",\n",
       " 'no',\n",
       " 'nor',\n",
       " 'not',\n",
       " 'now',\n",
       " 'o',\n",
       " 'of',\n",
       " 'off',\n",
       " 'on',\n",
       " 'once',\n",
       " 'only',\n",
       " 'or',\n",
       " 'other',\n",
       " 'our',\n",
       " 'ours',\n",
       " 'ourselves',\n",
       " 'out',\n",
       " 'over',\n",
       " 'own',\n",
       " 're',\n",
       " 's',\n",
       " 'same',\n",
       " 'shan',\n",
       " \"shan't\",\n",
       " 'she',\n",
       " \"she'd\",\n",
       " \"she'll\",\n",
       " \"she's\",\n",
       " 'should',\n",
       " 'shouldn',\n",
       " \"shouldn't\",\n",
       " \"should've\",\n",
       " 'so',\n",
       " 'some',\n",
       " 'such',\n",
       " 't',\n",
       " 'than',\n",
       " 'that',\n",
       " \"that'll\",\n",
       " 'the',\n",
       " 'their',\n",
       " 'theirs',\n",
       " 'them',\n",
       " 'themselves',\n",
       " 'then',\n",
       " 'there',\n",
       " 'these',\n",
       " 'they',\n",
       " \"they'd\",\n",
       " \"they'll\",\n",
       " \"they're\",\n",
       " \"they've\",\n",
       " 'this',\n",
       " 'those',\n",
       " 'through',\n",
       " 'to',\n",
       " 'too',\n",
       " 'under',\n",
       " 'until',\n",
       " 'up',\n",
       " 've',\n",
       " 'very',\n",
       " 'was',\n",
       " 'wasn',\n",
       " \"wasn't\",\n",
       " 'we',\n",
       " \"we'd\",\n",
       " \"we'll\",\n",
       " \"we're\",\n",
       " 'were',\n",
       " 'weren',\n",
       " \"weren't\",\n",
       " \"we've\",\n",
       " 'what',\n",
       " 'when',\n",
       " 'where',\n",
       " 'which',\n",
       " 'while',\n",
       " 'who',\n",
       " 'whom',\n",
       " 'why',\n",
       " 'will',\n",
       " 'with',\n",
       " 'won',\n",
       " \"won't\",\n",
       " 'wouldn',\n",
       " \"wouldn't\",\n",
       " 'y',\n",
       " 'you',\n",
       " \"you'd\",\n",
       " \"you'll\",\n",
       " 'your',\n",
       " \"you're\",\n",
       " 'yours',\n",
       " 'yourself',\n",
       " 'yourselves',\n",
       " \"you've\"]"
      ]
     },
     "execution_count": 4,
     "metadata": {},
     "output_type": "execute_result"
    }
   ],
   "source": [
    "stopwords.words('english')"
   ]
  },
  {
   "cell_type": "code",
   "execution_count": 5,
   "metadata": {},
   "outputs": [],
   "source": [
    "from nltk.stem import PorterStemmer\n",
    "stemmer=PorterStemmer()"
   ]
  },
  {
   "cell_type": "code",
   "execution_count": 10,
   "metadata": {},
   "outputs": [
    {
     "data": {
      "text/plain": [
       "list"
      ]
     },
     "execution_count": 10,
     "metadata": {},
     "output_type": "execute_result"
    }
   ],
   "source": [
    "sentences=nltk.sent_tokenize(paragraph)\n",
    "type(sentences)"
   ]
  },
  {
   "cell_type": "code",
   "execution_count": null,
   "metadata": {},
   "outputs": [],
   "source": [
    "##Apply Stopwords And Filter And then Apply Stemming\n",
    "for i in range(len(sentences)):\n",
    "    words=nltk.word_tokenize(sentences[i])\n",
    "    words= [stemmer.stem(word) for word in words if word not in set(stopwords.words('english'))]\n",
    "    sentences[i]=' '.join(words) ##Converting all  the list of words into sentences"
   ]
  },
  {
   "cell_type": "code",
   "execution_count": 13,
   "metadata": {},
   "outputs": [
    {
     "data": {
      "text/plain": [
       "['i honor today commenc one finest univers world .',\n",
       " 'i never graduat colleg .',\n",
       " 'truth told , closest i ’ ever gotten colleg graduat .',\n",
       " 'today i want tell three stori life .',\n",
       " 'that ’ .',\n",
       " 'no big deal .',\n",
       " 'just three stori .',\n",
       " 'the first stori connect dot .',\n",
       " 'i drop reed colleg first 6 month , stay around drop-in anoth 18 month i realli quit .',\n",
       " 'so i drop ?',\n",
       " 'it start i born .',\n",
       " 'my biolog mother young , unw colleg graduat student , decid put adopt .',\n",
       " 'she felt strongli i adopt colleg graduat , everyth set adopt birth lawyer wife .',\n",
       " 'except i pop decid last minut realli want girl .',\n",
       " 'so parent , wait list , got call middl night ask : “ we unexpect babi boy ; want ? ” they said : “ of course. ” my biolog mother later found mother never graduat colleg father never graduat high school .',\n",
       " 'she refus sign final adopt paper .',\n",
       " 'she relent month later parent promis i would someday go colleg .',\n",
       " 'and 17 year later i go colleg .',\n",
       " 'but i naiv chose colleg almost expens stanford , working-class parent ’ save spent colleg tuition .',\n",
       " 'after six month , i ’ see valu .',\n",
       " 'i idea i want life idea colleg go help figur .',\n",
       " 'and i spend money parent save entir life .',\n",
       " 'so i decid drop trust would work ok .',\n",
       " 'it pretti scari time , look back one best decis i ever made .',\n",
       " 'the minut i drop i could stop take requir class ’ interest , begin drop one look interest .',\n",
       " 'it ’ romant .',\n",
       " 'i ’ dorm room , i slept floor friend ’ room , i return coke bottl 5¢ deposit buy food , i would walk 7 mile across town everi sunday night get one good meal week hare krishna templ .',\n",
       " 'i love .',\n",
       " 'and much i stumbl follow curios intuit turn priceless later .',\n",
       " 'let give one exampl : reed colleg time offer perhap best calligraphi instruct countri .',\n",
       " 'throughout campu everi poster , everi label everi drawer , beauti hand calligraph .',\n",
       " 'becaus i drop ’ take normal class , i decid take calligraphi class learn .',\n",
       " 'i learn serif san serif typefac , vari amount space differ letter combin , make great typographi great .',\n",
       " 'it beauti , histor , artist subtl way scienc ’ captur , i found fascin .']"
      ]
     },
     "execution_count": 13,
     "metadata": {},
     "output_type": "execute_result"
    }
   ],
   "source": [
    "sentences"
   ]
  },
  {
   "cell_type": "code",
   "execution_count": 15,
   "metadata": {},
   "outputs": [],
   "source": [
    "from nltk.stem import SnowballStemmer\n",
    "snowballstemmer=SnowballStemmer('english')"
   ]
  },
  {
   "cell_type": "code",
   "execution_count": 16,
   "metadata": {},
   "outputs": [],
   "source": [
    "##Apply Stopwords And Filter And then Apply Snow Stemming\n",
    "for i in range(len(sentences)):\n",
    "    words=nltk.word_tokenize(sentences[i])\n",
    "    words= [snowballstemmer.stem(word) for word in words if word not in set(stopwords.words('english'))]\n",
    "    sentences[i]=' '.join(words) ##Converting all  the list of words into sentences"
   ]
  },
  {
   "cell_type": "code",
   "execution_count": 17,
   "metadata": {},
   "outputs": [
    {
     "data": {
      "text/plain": [
       "['honor today commenc one finest univ world .',\n",
       " 'never graduat colleg .',\n",
       " 'truth told , closest ’ ever gotten colleg graduat .',\n",
       " 'today want tell three stori life .',\n",
       " '’ .',\n",
       " 'big deal .',\n",
       " 'three stori .',\n",
       " 'first stori connect dot .',\n",
       " 'drop reed colleg first 6 month , stay around drop-in anoth 18 month realli quit .',\n",
       " 'drop ?',\n",
       " 'start born .',\n",
       " 'biolog mother young , unw colleg graduat student , decid put adopt .',\n",
       " 'felt strong adopt colleg graduat , everyth set adopt birth lawyer wife .',\n",
       " 'except pop decid last minut realli want girl .',\n",
       " 'parent , wait list , got call middl night ask : “ unexpect babi boy ; want ? ” said : “ cours . ” biolog mother later found mother never graduat colleg father never graduat high school .',\n",
       " 'refus sign final adopt paper .',\n",
       " 'relent month later parent promi would someday go colleg .',\n",
       " '17 year later go colleg .',\n",
       " 'naiv chose colleg almost expen stanford , working-class parent ’ save spent colleg tuition .',\n",
       " 'six month , ’ see valu .',\n",
       " 'idea want life idea colleg go help figur .',\n",
       " 'spend money parent save entir life .',\n",
       " 'decid drop trust would work ok .',\n",
       " 'pretti scari time , look back one best deci ever made .',\n",
       " 'minut drop could stop take requir class ’ interest , begin drop one look interest .',\n",
       " '’ romant .',\n",
       " '’ dorm room , slept floor friend ’ room , return coke bottl 5¢ deposit buy food , would walk 7 mile across town everi sunday night get one good meal week hare krishna templ .',\n",
       " 'love .',\n",
       " 'much stumbl follow curio intuit turn priceless later .',\n",
       " 'let give one exampl : reed colleg time offer perhap best calligraphi instruct countri .',\n",
       " 'throughout campu everi poster , everi label everi drawer , beauti hand calligraph .',\n",
       " 'becaus drop ’ take normal class , decid take calligraphi class learn .',\n",
       " 'learn serif san serif typefac , vari amount space differ letter combin , make great typographi great .',\n",
       " 'beauti , histor , artist subtl way scienc ’ captur , found fascin .']"
      ]
     },
     "execution_count": 17,
     "metadata": {},
     "output_type": "execute_result"
    }
   ],
   "source": [
    "sentences"
   ]
  },
  {
   "cell_type": "code",
   "execution_count": 18,
   "metadata": {},
   "outputs": [],
   "source": [
    "from nltk.stem import WordNetLemmatizer\n",
    "lemmatizer=WordNetLemmatizer()"
   ]
  },
  {
   "cell_type": "code",
   "execution_count": 22,
   "metadata": {},
   "outputs": [],
   "source": [
    "##Apply Stopwords And Filter And then Apply Word net lemmatizer\n",
    "for i in range(len(sentences)):\n",
    "    words=nltk.word_tokenize(sentences[i])\n",
    "    words= [lemmatizer.lemmatize(word,pos='v') for word in words if word not in set(stopwords.words('english'))]\n",
    "    sentences[i]=' '.join(words) ##Converting all  the list of words into sentences"
   ]
  },
  {
   "cell_type": "code",
   "execution_count": 21,
   "metadata": {},
   "outputs": [
    {
     "data": {
      "text/plain": [
       "['honor today commenc one finest univ world .',\n",
       " 'never graduat colleg .',\n",
       " 'truth told , closest ’ ever gotten colleg graduat .',\n",
       " 'today want tell three stori life .',\n",
       " '’ .',\n",
       " 'big deal .',\n",
       " 'three stori .',\n",
       " 'first stori connect dot .',\n",
       " 'drop reed colleg first 6 month , stay around drop-in anoth 18 month realli quit .',\n",
       " 'drop ?',\n",
       " 'start born .',\n",
       " 'biolog mother young , unw colleg graduat student , decid put adopt .',\n",
       " 'felt strong adopt colleg graduat , everyth set adopt birth lawyer wife .',\n",
       " 'except pop decid last minut realli want girl .',\n",
       " 'parent , wait list , got call middl night ask : “ unexpect babi boy ; want ? ” said : “ cours . ” biolog mother later found mother never graduat colleg father never graduat high school .',\n",
       " 'refus sign final adopt paper .',\n",
       " 'relent month later parent promi would someday go colleg .',\n",
       " '17 year later go colleg .',\n",
       " 'naiv chose colleg almost expen stanford , working-class parent ’ save spent colleg tuition .',\n",
       " 'six month , ’ see valu .',\n",
       " 'idea want life idea colleg go help figur .',\n",
       " 'spend money parent save entir life .',\n",
       " 'decid drop trust would work ok .',\n",
       " 'pretti scari time , look back one best deci ever made .',\n",
       " 'minut drop could stop take requir class ’ interest , begin drop one look interest .',\n",
       " '’ romant .',\n",
       " '’ dorm room , slept floor friend ’ room , return coke bottl 5¢ deposit buy food , would walk 7 mile across town everi sunday night get one good meal week hare krishna templ .',\n",
       " 'love .',\n",
       " 'much stumbl follow curio intuit turn priceless later .',\n",
       " 'let give one exampl : reed colleg time offer perhap best calligraphi instruct countri .',\n",
       " 'throughout campu everi poster , everi label everi drawer , beauti hand calligraph .',\n",
       " 'becaus drop ’ take normal class , decid take calligraphi class learn .',\n",
       " 'learn serif san serif typefac , vari amount space differ letter combin , make great typographi great .',\n",
       " 'beauti , histor , artist subtl way scienc ’ captur , found fascin .']"
      ]
     },
     "execution_count": 21,
     "metadata": {},
     "output_type": "execute_result"
    }
   ],
   "source": [
    "sentences"
   ]
  }
 ],
 "metadata": {
  "kernelspec": {
   "display_name": "Python 3",
   "language": "python",
   "name": "python3"
  },
  "language_info": {
   "codemirror_mode": {
    "name": "ipython",
    "version": 3
   },
   "file_extension": ".py",
   "mimetype": "text/x-python",
   "name": "python",
   "nbconvert_exporter": "python",
   "pygments_lexer": "ipython3",
   "version": "3.10.0"
  }
 },
 "nbformat": 4,
 "nbformat_minor": 2
}
